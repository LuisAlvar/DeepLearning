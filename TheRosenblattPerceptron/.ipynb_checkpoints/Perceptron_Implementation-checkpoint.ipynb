{
 "cells": [
  {
   "cell_type": "code",
   "execution_count": 9,
   "id": "0a0ab932",
   "metadata": {},
   "outputs": [],
   "source": [
    "# Code Snippet 1-1 Python Implementation of Perceptron Function \n",
    "\n",
    "# First element in vector x must be 1.\n",
    "# Length of w and x must be n+1 for neuron with n inputs.\n",
    "def compute_output(w,x):\n",
    "    z = 0.0\n",
    "    for i in range(len(w)):\n",
    "        z += x[i] * w[i]     # Compute sum of weighted inputs\n",
    "    # Apply sign function\n",
    "    if z < 0:\n",
    "        return -1\n",
    "    else:\n",
    "        return 1"
   ]
  },
  {
   "cell_type": "code",
   "execution_count": 10,
   "id": "1d6fb0d1",
   "metadata": {},
   "outputs": [
    {
     "name": "stdout",
     "output_type": "stream",
     "text": [
      "[1, 1, 1, -1]\n"
     ]
    }
   ],
   "source": [
    "w = [0.9,-0.6,-0.5]\n",
    "data_set = [\n",
    "    [1.0,-1.0,-1.0],\n",
    "    [1.0,-1.0,1.0],\n",
    "    [1.0,1.0,-1.0],\n",
    "    [1.0,1.0,1.0]\n",
    "]\n",
    "results = [\n",
    " compute_output(w, data_set[0]),\n",
    " compute_output(w, data_set[1]),\n",
    " compute_output(w, data_set[2]),\n",
    " compute_output(w, data_set[3])\n",
    "]\n",
    "print(results)"
   ]
  },
  {
   "cell_type": "code",
   "execution_count": 11,
   "id": "98ada446",
   "metadata": {},
   "outputs": [
    {
     "name": "stdout",
     "output_type": "stream",
     "text": [
      "w0 =  0.20 , w1 = -0.60 , w2 =  0.25\n"
     ]
    }
   ],
   "source": [
    "# Code Snippet 1-2 Initialization Code for Our Perceptron Learning Example\n",
    "\n",
    "import random \n",
    "\n",
    "def show_learning(w):\n",
    "    print('w0 =','%5.2f' % w[0], ', w1 =', '%5.2f' % w[1], ', w2 =', '%5.2f' % w[2])\n",
    "\n",
    "# Define variables needed to control training process.\n",
    "random.seed(7) # To make repeatable\n",
    "LEARNING_RATE = 0.1\n",
    "index_list = [0,1,2,3] # Used to randomize order\n",
    "\n",
    "# Define training examples.\n",
    "x_train = [\n",
    "    (1.0,-1.0,-1.0),\n",
    "    (1.0,-1.0,1.0),\n",
    "    (1.0,1.0,-1.0),\n",
    "    (1.0,1.0,1.0)\n",
    "] # Inputs\n",
    "y_train = [1.0,1.0,1.0,-1.0] # Output (ground truth)\n",
    "\n",
    "# Define perceptron weights. \n",
    "w = [0.2, -0.6, 0.25] # Initialize to some \"random\" numbers\n",
    "\n",
    "# Print initial weights\n",
    "show_learning(w)\n",
    "\n"
   ]
  },
  {
   "cell_type": "code",
   "execution_count": 12,
   "id": "e8e13ba2-8d6e-4181-9bcf-eeddbc9f7123",
   "metadata": {},
   "outputs": [
    {
     "name": "stdout",
     "output_type": "stream",
     "text": [
      "[0, 1, 2, 3]\n",
      "w0 =  0.30 , w1 = -0.50 , w2 =  0.15\n",
      "[0, 1, 2, 3]\n",
      "w0 =  0.40 , w1 = -0.40 , w2 =  0.05\n",
      "w0 =  0.30 , w1 = -0.50 , w2 = -0.05\n",
      "[0, 1, 2, 3]\n",
      "w0 =  0.40 , w1 = -0.40 , w2 = -0.15\n",
      "[0, 1, 2, 3]\n"
     ]
    }
   ],
   "source": [
    "# Perceptron training loop.\n",
    "all_correct = False\n",
    "while not all_correct:\n",
    "    all_correct = True\n",
    "    random.shuffle(index_list)\n",
    "    for i in index_list:\n",
    "        x = x_train[i]\n",
    "        y = y_train[i]\n",
    "        p_out = compute_output(w,x) # Perceptron function\n",
    "        if y != p_out: # Update weights when wrong\n",
    "            for j in range(0, len(w)):\n",
    "                w[j] += (y * LEARNING_RATE * x[j])\n",
    "            all_correct = False\n",
    "            show_learning(w) # Show updated weights"
   ]
  },
  {
   "cell_type": "code",
   "execution_count": null,
   "id": "fb2972eb-30fd-4899-9a81-2a5f6b5e5aa4",
   "metadata": {},
   "outputs": [],
   "source": []
  }
 ],
 "metadata": {
  "kernelspec": {
   "display_name": "Python 3 (ipykernel)",
   "language": "python",
   "name": "python3"
  },
  "language_info": {
   "codemirror_mode": {
    "name": "ipython",
    "version": 3
   },
   "file_extension": ".py",
   "mimetype": "text/x-python",
   "name": "python",
   "nbconvert_exporter": "python",
   "pygments_lexer": "ipython3",
   "version": "3.12.2"
  }
 },
 "nbformat": 4,
 "nbformat_minor": 5
}
